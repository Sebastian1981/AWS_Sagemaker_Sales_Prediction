{
 "cells": [
  {
   "cell_type": "markdown",
   "metadata": {},
   "source": [
    "## Invoke SageMaker Enpoint from outside of AWS environment using SageMaker SDK\n",
    "\n",
    "Model used: XGBoost Bike Rental Prediction Trained in the XGBoost Lectures  \n",
    "  \n",
    "This example uses the IAM user: ml_user_predict. The user was setup in the housekeeping lecture of the course.  \n",
    "\n",
    "Refer to the lecture: Configure IAM Users, Setup Command Line Interface (CLI)\n",
    "\n",
    "Ensure xgboost-biketrain-v1 Endpoint is deployed before running this example  \n",
    "  \n",
    "To create an endpoint using SageMaker Console:  \n",
    "1. Select \"Models\" under \"Inference\" in navigation pane\n",
    "2. Search for model using this prefix: xgboost-biketrain-v1\n",
    "3. Select the latest model and choose create endpoint\n",
    "4. Specify endpoint name as: xgboost-biketrain-v1\n",
    "5. Create a new endpoint configuration\n",
    "6. Create a new endpoint\n",
    "7. After this lab is completed, delete the endpoint to avoid unnecessary charges"
   ]
  },
  {
   "cell_type": "code",
   "execution_count": 1,
   "metadata": {},
   "outputs": [],
   "source": [
    "# Install SageMaker 2.x version.\n",
    "#!pip install --upgrade sagemaker"
   ]
  },
  {
   "cell_type": "code",
   "execution_count": 2,
   "metadata": {},
   "outputs": [],
   "source": [
    "import boto3\n",
    "import sagemaker\n",
    "import numpy as np"
   ]
  },
  {
   "cell_type": "code",
   "execution_count": 3,
   "metadata": {},
   "outputs": [],
   "source": [
    "# Establish a session with AWS\n",
    "# Specify credentials and region to be used for this session.\n",
    "# We will use a ml_user_predict credentials that has limited privileges\n",
    "\n",
    "boto_session = boto3.Session(profile_name='ml_user_predict', region_name='us-east-1')\n",
    "\n",
    "#boto_session = boto3.Session()"
   ]
  },
  {
   "cell_type": "code",
   "execution_count": 4,
   "metadata": {},
   "outputs": [],
   "source": [
    "sess = sagemaker.Session(boto_session=boto_session)"
   ]
  },
  {
   "cell_type": "code",
   "execution_count": 5,
   "metadata": {},
   "outputs": [],
   "source": [
    "# Create a predictor and point to an existing endpoint\n",
    "\n",
    "# Get Predictor using SageMaker SDK\n",
    "# Specify Your Endpoint Name\n",
    "#endpoint_name = 'xgboost-biketrain-v1'\n",
    "endpoint_name = 'sagemaker-xgboost-2022-11-28-15-44-11-695'\n",
    "#endpoint_name = 'linear-learner-2022-11-15-14-57-02-049'\n",
    "\n",
    "predictor = sagemaker.predictor.Predictor(endpoint_name=endpoint_name,\n",
    "                                                 sagemaker_session=sess)"
   ]
  },
  {
   "cell_type": "code",
   "execution_count": 6,
   "metadata": {},
   "outputs": [],
   "source": [
    "# test model on libsvm file\n",
    "from sagemaker.serializers import LibSVMSerializer\n",
    "predictor.serializer = LibSVMSerializer"
   ]
  },
  {
   "cell_type": "code",
   "execution_count": 7,
   "metadata": {},
   "outputs": [],
   "source": [
    "# predict on libsvm file\n",
    "with open('./data/validation', \"r\") as f:\n",
    "    payload = f.read()"
   ]
  },
  {
   "cell_type": "code",
   "execution_count": 8,
   "metadata": {},
   "outputs": [],
   "source": [
    "runtime_client = sess.sagemaker_runtime_client\n",
    "response = runtime_client.invoke_endpoint(\n",
    "    EndpointName=predictor.endpoint_name, \n",
    "    ContentType=\"text/libsvm\", Body=payload\n",
    ")"
   ]
  },
  {
   "cell_type": "code",
   "execution_count": 9,
   "metadata": {},
   "outputs": [
    {
     "name": "stdout",
     "output_type": "stream",
     "text": [
      "Predicted values are [ 6767.17675781 33017.98046875 49357.37109375  8696.41796875\n",
      "  4399.16503906 11170.62890625 55041.44140625  9964.31152344\n",
      "  4525.75292969  5143.10693359].\n"
     ]
    }
   ],
   "source": [
    "result = response[\"Body\"].read().decode(\"ascii\")\n",
    "predicted_values = np.fromstring(result[1:-2], dtype=float, sep=',')\n",
    "print(\"Predicted values are {}.\".format(predicted_values[:10]))"
   ]
  },
  {
   "cell_type": "code",
   "execution_count": 10,
   "metadata": {},
   "outputs": [
    {
     "data": {
      "text/plain": [
       "(105393,)"
      ]
     },
     "execution_count": 10,
     "metadata": {},
     "output_type": "execute_result"
    }
   ],
   "source": [
    "predicted_values.shape"
   ]
  },
  {
   "cell_type": "code",
   "execution_count": 11,
   "metadata": {},
   "outputs": [],
   "source": [
    "# Delete the end-point\n",
    "#predictor.delete_model\n",
    "#predictor.delete_endpoint()"
   ]
  },
  {
   "cell_type": "code",
   "execution_count": null,
   "metadata": {},
   "outputs": [],
   "source": []
  }
 ],
 "metadata": {
  "instance_type": "ml.t3.medium",
  "kernelspec": {
   "display_name": "Python 3.8.5 ('AWS')",
   "language": "python",
   "name": "python3"
  },
  "language_info": {
   "codemirror_mode": {
    "name": "ipython",
    "version": 3
   },
   "file_extension": ".py",
   "mimetype": "text/x-python",
   "name": "python",
   "nbconvert_exporter": "python",
   "pygments_lexer": "ipython3",
   "version": "3.8.5"
  },
  "vscode": {
   "interpreter": {
    "hash": "d3450ed97910b0750fca8c6f66217f81b2a35f356d19c5de920f46c68c7bed4d"
   }
  }
 },
 "nbformat": 4,
 "nbformat_minor": 4
}
